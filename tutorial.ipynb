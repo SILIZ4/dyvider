{
 "cells": [
  {
   "cell_type": "markdown",
   "metadata": {},
   "source": [
    "# `dyvider` tutorial\n",
    "\n",
    "This tutorial demonstrates the use of [dyvider](https://github.com/jg-you/dyvider), a small package implementing reference code for detecting partitions in networks embedded in one dimension --- sometimes called the \"linear clustering problem.\"\n",
    "\n",
    "This code is based on the article [\\\"Fast and exact linear clustering of networks with dynamic programming\\\"](https://arxiv.org/abs/XXXXXX), by [Alice Patania](), [Antoine Allard](https://antoineallard.github.io/) and [Jean-Gabriel Young](https://jg-you.github.io/). \n",
    "\n",
    "**Notebook author**: Jean-Gabriel Young <jean-gabriel.young@uvm.edu><br/>\n",
    "**Last modified:** January 2023<br/>\n",
    "**License:** CC BY 4.0<br/>"
   ]
  },
  {
   "cell_type": "markdown",
   "metadata": {},
   "source": [
    "## Setup"
   ]
  },
  {
   "cell_type": "markdown",
   "metadata": {},
   "source": [
    "Let's first import the few packages needed for this tutorial.\n",
    "\n",
    "The strict minimum is `dyvider`---the package implementing the partitioning code---and `networkx`---for storing and manipulating graphs. This is all that is needed to solve the clustering task.\n",
    "We'll also use plotting and numerical packages."
   ]
  },
  {
   "cell_type": "code",
   "execution_count": 1,
   "metadata": {},
   "outputs": [],
   "source": [
    "import networkx as nx             # graph manipulation\n",
    "import numpy as np                # numerical utilities\n",
    "import matplotlib.pyplot as plt   # plotting\n",
    "import itertools as it            # iteration utilities\n",
    "import pandas as pd               # format results\n",
    "\n",
    "# TODO: change paths\n",
    "import sys\n",
    "sys.path.insert(0, 'dyvider/')\n",
    "import dyvider as dy\n",
    "\n",
    "\n",
    "np.random.seed(0)              # set seed for reproducibility"
   ]
  },
  {
   "cell_type": "markdown",
   "metadata": {},
   "source": [
    "## A first example"
   ]
  },
  {
   "cell_type": "markdown",
   "metadata": {},
   "source": [
    "The very first step of the process is to create a graph object with node positions.\n",
    "For the sake of simplicity, we will start with a small synthetic network of 5 nodes."
   ]
  },
  {
   "cell_type": "code",
   "execution_count": 2,
   "metadata": {},
   "outputs": [],
   "source": [
    "# First we create a dictionary of scores\n",
    "# keys are node identifiers, and values are scores (on the real line)\n",
    "score = {0: 9.3,\n",
    "         1: 8.3,\n",
    "         2: 4.1,\n",
    "         3: 1.5,\n",
    "         4: 0.3}\n",
    "\n",
    "# Let's now instantiate a graph with these scores\n",
    "g = nx.Graph()\n",
    "g.add_nodes_from([0, 1, 2, 3, 4])\n",
    "nx.set_node_attributes(g, values=score, name='score')\n",
    "\n",
    "# Add edges\n",
    "g.add_edge(0, 1)\n",
    "g.add_edge(0, 2)\n",
    "g.add_edge(1, 2)\n",
    "g.add_edge(2, 3)\n",
    "g.add_edge(3, 4)"
   ]
  },
  {
   "cell_type": "markdown",
   "metadata": {},
   "source": [
    "The package expects nodes indexed by contiguous integers starting from 0. Additionally, the package expects that node 0 has the highest score and that scores are stored as the node attribute `score`. In our example, we have already followed this convention. But if a messy graph is loaded instead, we provide a helper function to apply these transformations automatically to any graph with a `score` node attribute:"
   ]
  },
  {
   "cell_type": "code",
   "execution_count": 3,
   "metadata": {},
   "outputs": [],
   "source": [
    "# this function **does not** modify the graph in-place -- it returns a new graph object\n",
    "g = dy.utilities.preprocess(g)"
   ]
  },
  {
   "cell_type": "markdown",
   "metadata": {},
   "source": [
    "Once we have processed the graph, the next step is to define an objective function.\n",
    "\n",
    "In `dyvider`, objective functions are implemented as `python` classes, and several default objectives can be found in the `objectives` submodule. For this example, we will use the *modularity* objective. It favors layers that are denser than expected according to some null model---by default, the [configuration model](https://en.wikipedia.org/wiki/Configuration_model)."
   ]
  },
  {
   "cell_type": "code",
   "execution_count": 4,
   "metadata": {},
   "outputs": [],
   "source": [
    "the_objective = dy.objectives.Modularity()"
   ]
  },
  {
   "cell_type": "markdown",
   "metadata": {},
   "source": [
    "Once we have defined the objective function, we can run the detection algorithm. \n",
    "\n",
    "`algorithms.run` provides a convenient interface that automatically selects and runs the best algorithm for the chosen objective. This function takes a graph and an instantiated objective function as inputs. It returns a `Layers` object containing the optimal partition and the numerical value of the optimum of the objective function."
   ]
  },
  {
   "cell_type": "code",
   "execution_count": 5,
   "metadata": {},
   "outputs": [],
   "source": [
    "(solution, Q_opt) = dy.algorithms.run(g, the_objective)"
   ]
  },
  {
   "cell_type": "markdown",
   "metadata": {},
   "source": [
    "`solution` is a `Layers` object and can be manipulated using a few useful methods and data members:"
   ]
  },
  {
   "cell_type": "code",
   "execution_count": 6,
   "metadata": {},
   "outputs": [],
   "source": [
    "# get the layers as a list of frozensets\n",
    "solution.as_sets()\n",
    "\n",
    "# iterate over layers (as frozensets)\n",
    "for layer in solution:\n",
    "    layer \n",
    "\n",
    "# get the identifier of the layer of a particular node (in the processed formed)\n",
    "v = 3\n",
    "solution.layer_of[v];"
   ]
  },
  {
   "cell_type": "markdown",
   "metadata": {},
   "source": [
    "We will use these methods and `networkx` to visualize the solution."
   ]
  },
  {
   "cell_type": "code",
   "execution_count": 7,
   "metadata": {},
   "outputs": [
    {
     "data": {
      "image/png": "[encoded data removed]",
      "text/plain": [
       "<Figure size 300x300 with 1 Axes>"
      ]
     },
     "metadata": {},
     "output_type": "display_data"
    }
   ],
   "source": [
    "# create a list of node labels from the Layers object\n",
    "node_labels = [solution.layer_of[v] for v in g.nodes()]\n",
    "\n",
    "# assign node positions using the \"score\" of nodes on the vertical\n",
    "# axis and a random number on the horizontal axis\n",
    "pos = [np.array([np.random.normal(0, 0.1),\n",
    "                 score[v]])\n",
    "       for v in g.nodes()]\n",
    "\n",
    "\n",
    "# visualize the graph\n",
    "plt.figure(figsize=(3,3))\n",
    "nx.draw(g,\n",
    "        pos=pos,\n",
    "        node_color=node_labels,\n",
    "        cmap=plt.cm.Set3,\n",
    "        edgecolors='k',\n",
    "        edge_color='#aaa',\n",
    "        linewidths=2\n",
    "        )\n",
    "plt.xlim(-0.5, 0.5);"
   ]
  },
  {
   "cell_type": "markdown",
   "metadata": {},
   "source": [
    "The objective is maximized by a partition in two layers as can be seen above.\n",
    "This solution is associated to a quality of:"
   ]
  },
  {
   "cell_type": "code",
   "execution_count": 8,
   "metadata": {},
   "outputs": [
    {
     "data": {
      "text/plain": [
       "0.22"
      ]
     },
     "execution_count": 8,
     "metadata": {},
     "output_type": "execute_result"
    }
   ],
   "source": [
    "round(Q_opt / g.number_of_edges(), 3)  # (normalize to put on the standard modularity scale)"
   ]
  },
  {
   "cell_type": "markdown",
   "metadata": {},
   "source": [
    "For this small graph, there are only $2^4=16$ possible clustering of the nodes, so we can actually verify that the solution is optimal by brute-force enumeration:"
   ]
  },
  {
   "cell_type": "code",
   "execution_count": 9,
   "metadata": {},
   "outputs": [],
   "source": [
    "n = g.number_of_nodes()\n",
    "# iterate over all clusterings\n",
    "tmp = []\n",
    "for k in list(range(1, n + 1)):\n",
    "    for boundaries in it.combinations(range(n - 1), k - 1):\n",
    "        # create Layers object\n",
    "        solution = dy.layers.Layers(list(boundaries) + [n - 1])\n",
    "        # evaluate quality\n",
    "        Q = the_objective.eval(g, solution)\n",
    "        # save results\n",
    "        tmp.append([Q, solution])"
   ]
  },
  {
   "cell_type": "markdown",
   "metadata": {},
   "source": [
    "The explicit enumeration does show that the solution found by `dyvider` is optimal:"
   ]
  },
  {
   "cell_type": "code",
   "execution_count": 10,
   "metadata": {},
   "outputs": [
    {
     "name": "stdout",
     "output_type": "stream",
     "text": [
      "Quality  | Solution\n",
      "----------------------------------------\n",
      " 0.00    | [[0, 1, 2, 3, 4]]\n",
      "-0.08    | [[0]; [1, 2, 3, 4]]\n",
      " 0.08    | [[0, 1]; [2, 3, 4]]\n",
      " 0.22 ** | [[0, 1, 2]; [3, 4]]\n",
      "-0.02    | [[0, 1, 2, 3]; [4]]\n",
      "-0.04    | [[0]; [1]; [2, 3, 4]]\n",
      " 0.02    | [[0]; [1, 2]; [3, 4]]\n",
      "-0.14    | [[0]; [1, 2, 3]; [4]]\n",
      " 0.06    | [[0, 1]; [2]; [3, 4]]\n",
      "-0.02    | [[0, 1]; [2, 3]; [4]]\n",
      " 0.06    | [[0, 1, 2]; [3]; [4]]\n",
      "-0.06    | [[0]; [1]; [2]; [3, 4]]\n",
      "-0.14    | [[0]; [1]; [2, 3]; [4]]\n",
      "-0.14    | [[0]; [1, 2]; [3]; [4]]\n",
      "-0.10    | [[0, 1]; [2]; [3]; [4]]\n",
      "-0.22    | [[0]; [1]; [2]; [3]; [4]]\n"
     ]
    }
   ],
   "source": [
    "print(\"Quality  | Solution\\n----------------------------------------\")\n",
    "for Q, solution in tmp:\n",
    "    print(\"{0: .2f}\".format(round(Q / g.number_of_edges(), 3)), \"**\" if Q == Q_opt else \"  \", \"|\", solution)"
   ]
  },
  {
   "cell_type": "markdown",
   "metadata": {},
   "source": [
    "The optimal solution regroups nodes 0, 1 and 2 in one layer; and nodes 3 and 4 in a second layer, in line with the graph drawn in the cell above."
   ]
  },
  {
   "cell_type": "markdown",
   "metadata": {},
   "source": [
    "## Choosing the algorithm"
   ]
  },
  {
   "cell_type": "markdown",
   "metadata": {},
   "source": [
    "The `dyvider` package implements several detection algorithms, all in the `algorithms` submodule.\n",
    "They all take a graph and an instantiated objective as input and return a solution to the partitioning problem.\n",
    "\n",
    "Some are optimal maximizers (`brute_force`, `naive_dp`, `pair_sum_dp`), while others are approximative maximizers (e.g., `pure_greedy`, `critical_gap`, `heap_merge`)."
   ]
  },
  {
   "cell_type": "markdown",
   "metadata": {},
   "source": [
    "To run a specific algorithm, we need to call them directly instead of relying on the high-level interface `run`.\n",
    "A direct call would look like this:"
   ]
  },
  {
   "cell_type": "code",
   "execution_count": 11,
   "metadata": {},
   "outputs": [],
   "source": [
    "solution, Q = dy.algorithms.brute_force(g, the_objective)"
   ]
  },
  {
   "cell_type": "markdown",
   "metadata": {},
   "source": [
    "For example, let's compare the solution found by several algorithms on the partitioning task introduced above."
   ]
  },
  {
   "cell_type": "code",
   "execution_count": 12,
   "metadata": {},
   "outputs": [],
   "source": [
    "results = dict()\n",
    "for (algo_name, algo) in [(\"naive_dp\", dy.algorithms.naive_dp),\n",
    "                          (\"brute_force\", dy.algorithms.brute_force),\n",
    "                          (\"critica_gap\", dy.algorithms.critical_gap),\n",
    "                          (\"heap_merge\", dy.algorithms.heap_merge),\n",
    "                          (\"pure_greedy\", dy.algorithms.greedy)]:\n",
    "    results[algo_name] = algo(g, the_objective)"
   ]
  },
  {
   "cell_type": "markdown",
   "metadata": {},
   "source": [
    "Since the problem is easy, we find similar results with nearly all methods. \n",
    "Only the critical gap method---a greedy optimizer---does not."
   ]
  },
  {
   "cell_type": "code",
   "execution_count": 13,
   "metadata": {},
   "outputs": [
    {
     "name": "stdout",
     "output_type": "stream",
     "text": [
      "Algorithm\t | Q*   | Layers \n",
      "----------------------------------------------\n",
      "naive_dp\t | 0.22 | [[0, 1, 2]; [3, 4]]\n",
      "brute_force\t | 0.22 | [[0, 1, 2]; [3, 4]]\n",
      "critica_gap\t | 0.08 | [[0, 1]; [2, 3, 4]]\n",
      "heap_merge\t | 0.22 | [[0, 1, 2]; [3, 4]]\n",
      "pure_greedy\t | 0.22 | [[0, 1, 2]; [3, 4]]\n"
     ]
    }
   ],
   "source": [
    "print(\"Algorithm\\t | Q*   | Layers \\n----------------------------------------------\")\n",
    "for k, v in results.items():\n",
    "    print(k+\"\\t\", \"{0:.2f}\".format(round(v[1] / g.number_of_edges(), 3)), v[0], sep=\" | \")"
   ]
  },
  {
   "cell_type": "markdown",
   "metadata": {},
   "source": [
    "## Using different objectives"
   ]
  },
  {
   "cell_type": "markdown",
   "metadata": {},
   "source": [
    "As seen above, objective functions are python classes in `dyvider`.\n",
    "We provide several built-in objective functions in the submodule `objectives`. \n",
    "\n",
    "* For undirected graphs:\n",
    "    * `objectives.Partitioning`: Objective that increases with the number of edges inside layers. Includes a tunable quadratic penalty term to discourage large layers.\n",
    "    * `objectives.Modularity`: Objective that increases with the difference between the number of edges inside layers and the *expected*  number of layers, as predicted by a null model. We have implemented the configuration model and the Erdős–Rényi null models.\n",
    "* For directed graphs:\n",
    "    * `objectives.Egalitarian`: Objective that increases with the number of reciprocated edges inside layers. Includes a penalty term to discourage large layers.\n",
    "    * `objectives.Dominance`: Objective that decreases with the number of unreciprocated edges inside layers. Includes a penalty term to discourage empty layers.\n",
    "    \n"
   ]
  },
  {
   "cell_type": "markdown",
   "metadata": {},
   "source": [
    "### Example of built-in objective"
   ]
  },
  {
   "cell_type": "markdown",
   "metadata": {},
   "source": [
    "For example, let's revisit the partitioning problem above with a different objective, the partitioning objective\n",
    "\n",
    "$$ Q(\\mathcal{L})= \\sum_{r} (m_r - \\lambda n_r^2)$$\n",
    "\n",
    "where $m_r$ is the number of edges with both ends in layer $r$, and $n_r$ is the number of nodes, and $\\lambda\\in\\mathbb{R}$ is a tuning parameter."
   ]
  },
  {
   "cell_type": "code",
   "execution_count": 14,
   "metadata": {},
   "outputs": [
    {
     "data": {
      "text/plain": [
       "([[0, 1, 2]; [3, 4]], 1.3999999999999997)"
      ]
     },
     "execution_count": 14,
     "metadata": {},
     "output_type": "execute_result"
    }
   ],
   "source": [
    "# the tuning parameter is passed via \"penalty.\"\n",
    "the_objective = dy.objectives.Partitioning(penalty=0.2)\n",
    "dy.algorithms.run(g, the_objective)"
   ]
  },
  {
   "cell_type": "markdown",
   "metadata": {},
   "source": [
    "In this case, we find the same solution as with the modularity objective, but the numerical value associated with the solution is different since the partitioning objective is calculated differently.\n",
    "\n",
    "\n",
    "Since `dyvider` implements fast detection algorithms, we can easily scan values of the penalty term to check its impact:"
   ]
  },
  {
   "cell_type": "code",
   "execution_count": 15,
   "metadata": {},
   "outputs": [],
   "source": [
    "resolution = 201\n",
    "Qs = [None] * resolution\n",
    "solutions = [None] * resolution\n",
    "lambda_space = np.linspace(-1, 3, resolution)\n",
    "for i, penalty in enumerate(lambda_space):\n",
    "    solutions[i], Qs[i] = dy.algorithms.run(g, dy.objectives.Partitioning(penalty))"
   ]
  },
  {
   "cell_type": "code",
   "execution_count": 16,
   "metadata": {},
   "outputs": [
    {
     "data": {
      "text/plain": [
       "Text(0, 0.5, '$q$')"
      ]
     },
     "execution_count": 16,
     "metadata": {},
     "output_type": "execute_result"
    },
    {
     "data": {
      "image/png": "[encoded data removed]",
      "text/plain": [
       "<Figure size 700x200 with 2 Axes>"
      ]
     },
     "metadata": {},
     "output_type": "display_data"
    }
   ],
   "source": [
    "plt.figure(figsize=(7,2))\n",
    "\n",
    "plt.subplot(121)\n",
    "plt.title('Objective function')\n",
    "plt.plot(lambda_space, Qs)\n",
    "plt.xlabel(r\"$\\lambda$\")\n",
    "plt.ylabel(r'$Q^*$')\n",
    "\n",
    "plt.subplot(122)\n",
    "plt.title('Number of layers')\n",
    "plt.plot(lambda_space, [len(s) for s in solutions])\n",
    "plt.xlabel(r\"$\\lambda$\")\n",
    "plt.ylabel(r'$q$')\n"
   ]
  },
  {
   "cell_type": "markdown",
   "metadata": {},
   "source": [
    "We can see that the objective function decreases with the strength of the penalty term, as we subtract an increasingly large number---the penalty itself. We also see that the number of layers in the solution increases with the penalty, as the large penalty term favors smaller layers at the expense of their internal densities."
   ]
  },
  {
   "cell_type": "markdown",
   "metadata": {},
   "source": [
    "### Defining custom objectives"
   ]
  },
  {
   "cell_type": "markdown",
   "metadata": {},
   "source": [
    "Objective functions are classes in  `dyvider`.\n",
    "At the minimum, these classes must have the following methods:\n",
    "\n",
    "* `eval_layer(g, upper, lower)` a method that calculates the quality of a layer. `g` is the input graph, while  `upper` and `lower` are the extremal nodes of the layer (included). Note that 0 is at the top in our ordering of nodes, so `upper` <= `lower`.\n",
    "* `eval(g, layers)`, a helper method that evaluates the quality of a separation in layers. `g` is, again, the input graph, while `layers`  is a `Layers` object with the same number of nodes as `g`.\n",
    "\n",
    "For example, we could define the quality of a layer as the number of edges it contains to the power of 3, minus the number of nodes in contains to the power of 4. This would be done as:"
   ]
  },
  {
   "cell_type": "code",
   "execution_count": 17,
   "metadata": {},
   "outputs": [],
   "source": [
    "class CustomObjective(object):\n",
    "    def __init__(self):\n",
    "        pass\n",
    "\n",
    "    def eval_layer(self, g, upper, lower):\n",
    "        # count edges\n",
    "        num_edges = 0\n",
    "        for u, v in it.combinations_with_replacement(range(upper, lower + 1), 2):\n",
    "            num_edges += g.number_of_edges(u, v)\n",
    "        # define size    \n",
    "        num_nodes = (lower - upper)\n",
    "        return num_edges ** 3 - (lower - upper) ** 4\n",
    "\n",
    "    def eval(self, g, layers):\n",
    "        Q = 0\n",
    "        for L in layers:\n",
    "            Q += self.eval_layer(g, min(L), max(L))\n",
    "        return Q"
   ]
  },
  {
   "cell_type": "markdown",
   "metadata": {},
   "source": [
    "Evaluating this objective on our running example, we find the optimum:"
   ]
  },
  {
   "cell_type": "code",
   "execution_count": 18,
   "metadata": {},
   "outputs": [
    {
     "data": {
      "text/plain": [
       "([[0, 1, 2]; [3]; [4]], 11.0)"
      ]
     },
     "execution_count": 18,
     "metadata": {},
     "output_type": "execute_result"
    }
   ],
   "source": [
    "the_objective = CustomObjective()\n",
    "dy.algorithms.run(g, the_objective)"
   ]
  },
  {
   "cell_type": "markdown",
   "metadata": {},
   "source": [
    "The strong penatly on large group leads to two small layers at the bottom of the hierarchy, instead of 1."
   ]
  },
  {
   "cell_type": "markdown",
   "metadata": {},
   "source": [
    "### Harnessing accelerated dynamic programming methods"
   ]
  },
  {
   "cell_type": "markdown",
   "metadata": {},
   "source": [
    "`dyvider` implements several versions of the dynamic programming algorithms, some of which are faster but require special objective functions.\n",
    "\n",
    "In particular, a $O(n^2)$ solver is available for quality functions that can be written as\n",
    "\n",
    "$$ Q(L) = \\sum_r f(L_r)$$ \n",
    "\n",
    "where the quality of layer $f$ is calculated as a sum of pairs of quality increments, as\n",
    "\n",
    "$$f(L_r) = \\sum_{u,v\\in L_r} f_{uv}.$$"
   ]
  },
  {
   "cell_type": "markdown",
   "metadata": {},
   "source": [
    "To enable these fast algorithms, the class defining the objective function should:\n",
    "\n",
    "1. set `is_pair_sum=True` in its constructor;\n",
    "2. have a method `eval_pair(self, g, u, v)` that returns the quality increment $f_{uv}$.\n",
    "\n",
    "\n",
    "For such objectives, fast algorithms labeled by `pair_sum` in their name are available, i.e., `pair_sum_dp`, `pair_sum_heap_merge`, and `pair_sum_critical_gap`. The high-level interface `run` also automatically picks the fast version when called with such objectives."
   ]
  },
  {
   "cell_type": "code",
   "execution_count": 19,
   "metadata": {},
   "outputs": [
    {
     "data": {
      "text/plain": [
       "([[0, 1, 2]; [3, 4]], 1.1)"
      ]
     },
     "execution_count": 19,
     "metadata": {},
     "output_type": "execute_result"
    }
   ],
   "source": [
    "# Modularity is a built-in pair sum objective:\n",
    "dy.algorithms.pair_sum_dp(g, dy.objectives.Modularity())"
   ]
  },
  {
   "cell_type": "markdown",
   "metadata": {},
   "source": [
    "To simplify the definition of pair-sum objectives, we have defined an abstract class, `PairSumObjectives` from which one can derive pair-sum objectives easily. The abstract class defines all the necessary methods except `eval_pair`.\n",
    "\n",
    "\n",
    "For example, let's implement a \"degree-product\" objective defined by $f_{uv}=k_uk_v a_{uv} - 1$, where $k_u$ is the degree of node $u$ and $a_{uv}=1$  if  $u$ and $v$ are connected and to $0$ otherwise. This can be done as:"
   ]
  },
  {
   "cell_type": "code",
   "execution_count": 20,
   "metadata": {},
   "outputs": [],
   "source": [
    "# derive class from PairSumObjectives\n",
    "class DegreeProduct(dy.objectives.PairSumObjectives):\n",
    "    \n",
    "    def __init__(self):\n",
    "        super().__init__() # call constructor of PairSumObjectives\n",
    "    \n",
    "    def eval_pair(self, g, u, v):\n",
    "        return g.degree(u) * g.degree(v) * g.number_of_edges(u, v) - 1"
   ]
  },
  {
   "cell_type": "code",
   "execution_count": 21,
   "metadata": {},
   "outputs": [],
   "source": [
    "the_objective = DegreeProduct()\n",
    "Solution, Q = dy.algorithms.run(g, the_objective)"
   ]
  },
  {
   "cell_type": "markdown",
   "metadata": {},
   "source": [
    "And the solution for this new obejctive is just separated layers:"
   ]
  },
  {
   "cell_type": "code",
   "execution_count": 22,
   "metadata": {},
   "outputs": [
    {
     "name": "stdout",
     "output_type": "stream",
     "text": [
      "Solution: [[0, 1, 2]; [3, 4]]\n",
      "Q: 11.0\n"
     ]
    }
   ],
   "source": [
    "print(\"Solution:\", solution)\n",
    "print(\"Q:\", Q)"
   ]
  }
 ],
 "metadata": {
  "kernelspec": {
   "display_name": "Python 3 (ipykernel)",
   "language": "python",
   "name": "python3"
  },
  "language_info": {
   "codemirror_mode": {
    "name": "ipython",
    "version": 3
   },
   "file_extension": ".py",
   "mimetype": "text/x-python",
   "name": "python",
   "nbconvert_exporter": "python",
   "pygments_lexer": "ipython3",
   "version": "3.10.9"
  }
 },
 "nbformat": 4,
 "nbformat_minor": 2
}
